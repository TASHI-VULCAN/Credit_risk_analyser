{
 "cells": [
  {
   "cell_type": "code",
   "execution_count": 3,
   "metadata": {},
   "outputs": [],
   "source": [
    "#Load and preprocess the Data\n",
    "#Import the libraries\n",
    "import pandas as pd\n",
    "import numpy as np\n",
    "import seaborn as sns\n",
    "import matplotlib.pyplot as plt\n",
    "from sklearn.model_selection import train_test_split\n",
    "from sklearn.preprocessing import StandardScaler, LabelEncoder\n",
    "\n",
    "from sklearn.ensemble import RandomForestClassifier\n",
    "from sklearn.metrics import accuracy_score, classification_report, roc_auc_score\n",
    "\n",
    "#pip install fastapi uvicorn (for FastAPI and Uvicorn)\n",
    "#We are adding an API endpoint so the model can male real-time load risk predictions\n"
   ]
  },
  {
   "cell_type": "code",
   "execution_count": 4,
   "metadata": {},
   "outputs": [
    {
     "name": "stdout",
     "output_type": "stream",
     "text": [
      "Index(['loan_amnt', 'term', 'int_rate', 'installment', 'grade', 'sub_grade',\n",
      "       'emp_title', 'emp_length', 'home_ownership', 'annual_inc',\n",
      "       'verification_status', 'issue_d', 'loan_status', 'purpose', 'title',\n",
      "       'dti', 'earliest_cr_line', 'open_acc', 'pub_rec', 'revol_bal',\n",
      "       'revol_util', 'total_acc', 'initial_list_status', 'application_type',\n",
      "       'mort_acc', 'pub_rec_bankruptcies', 'address'],\n",
      "      dtype='object')\n",
      "<bound method NDFrame.head of         loan_amnt        term  int_rate  installment grade sub_grade  \\\n",
      "0         10000.0   36 months     11.44       329.48     B        B4   \n",
      "1          8000.0   36 months     11.99       265.68     B        B5   \n",
      "2         15600.0   36 months     10.49       506.97     B        B3   \n",
      "3          7200.0   36 months      6.49       220.65     A        A2   \n",
      "4         24375.0   60 months     17.27       609.33     C        C5   \n",
      "...           ...         ...       ...          ...   ...       ...   \n",
      "396024     6000.0   36 months     13.11       202.49     B        B4   \n",
      "396025    10000.0   60 months     10.99       217.38     B        B4   \n",
      "396026    21000.0   36 months     12.29       700.42     C        C1   \n",
      "396027     5000.0   36 months      9.99       161.32     B        B1   \n",
      "396028    21000.0   60 months     15.31       503.02     C        C2   \n",
      "\n",
      "                      emp_title emp_length home_ownership  annual_inc  ...  \\\n",
      "0                     Marketing  10+ years           RENT    117000.0  ...   \n",
      "1               Credit analyst     4 years       MORTGAGE     65000.0  ...   \n",
      "2                  Statistician   < 1 year           RENT     43057.0  ...   \n",
      "3               Client Advocate    6 years           RENT     54000.0  ...   \n",
      "4       Destiny Management Inc.    9 years       MORTGAGE     55000.0  ...   \n",
      "...                         ...        ...            ...         ...  ...   \n",
      "396024  Michael's Arts & Crafts    5 years           RENT     64000.0  ...   \n",
      "396025         licensed bankere    2 years           RENT     40000.0  ...   \n",
      "396026                    Agent    5 years       MORTGAGE    110000.0  ...   \n",
      "396027             City Carrier  10+ years           RENT     56500.0  ...   \n",
      "396028     Gracon Services, Inc  10+ years       MORTGAGE     64000.0  ...   \n",
      "\n",
      "       open_acc pub_rec revol_bal revol_util total_acc  initial_list_status  \\\n",
      "0          16.0     0.0   36369.0       41.8      25.0                    w   \n",
      "1          17.0     0.0   20131.0       53.3      27.0                    f   \n",
      "2          13.0     0.0   11987.0       92.2      26.0                    f   \n",
      "3           6.0     0.0    5472.0       21.5      13.0                    f   \n",
      "4          13.0     0.0   24584.0       69.8      43.0                    f   \n",
      "...         ...     ...       ...        ...       ...                  ...   \n",
      "396024      7.0     0.0   11456.0       97.1       9.0                    w   \n",
      "396025      6.0     0.0    1990.0       34.3      23.0                    w   \n",
      "396026      6.0     0.0   43263.0       95.7       8.0                    f   \n",
      "396027     15.0     0.0   32704.0       66.9      23.0                    f   \n",
      "396028      9.0     0.0   15704.0       53.8      20.0                    f   \n",
      "\n",
      "       application_type  mort_acc  pub_rec_bankruptcies  \\\n",
      "0            INDIVIDUAL       0.0                   0.0   \n",
      "1            INDIVIDUAL       3.0                   0.0   \n",
      "2            INDIVIDUAL       0.0                   0.0   \n",
      "3            INDIVIDUAL       0.0                   0.0   \n",
      "4            INDIVIDUAL       1.0                   0.0   \n",
      "...                 ...       ...                   ...   \n",
      "396024       INDIVIDUAL       0.0                   0.0   \n",
      "396025       INDIVIDUAL       0.0                   0.0   \n",
      "396026       INDIVIDUAL       1.0                   0.0   \n",
      "396027       INDIVIDUAL       0.0                   0.0   \n",
      "396028       INDIVIDUAL       5.0                   0.0   \n",
      "\n",
      "                                                  address  \n",
      "0            0174 Michelle Gateway\\nMendozaberg, OK 22690  \n",
      "1         1076 Carney Fort Apt. 347\\nLoganmouth, SD 05113  \n",
      "2         87025 Mark Dale Apt. 269\\nNew Sabrina, WV 05113  \n",
      "3                   823 Reid Ford\\nDelacruzside, MA 00813  \n",
      "4                    679 Luna Roads\\nGreggshire, VA 11650  \n",
      "...                                                   ...  \n",
      "396024  514 Cynthia Park Apt. 402\\nWest Williamside, S...  \n",
      "396025     12951 Williams Crossing\\nJohnnyville, DC 30723  \n",
      "396026  0114 Fowler Field Suite 028\\nRachelborough, LA...  \n",
      "396027   953 Matthew Points Suite 414\\nReedfort, NY 70466  \n",
      "396028  7843 Blake Freeway Apt. 229\\nNew Michael, FL 2...  \n",
      "\n",
      "[335867 rows x 27 columns]>\n",
      "<bound method DataFrame.info of         loan_amnt        term  int_rate  installment grade sub_grade  \\\n",
      "0         10000.0   36 months     11.44       329.48     B        B4   \n",
      "1          8000.0   36 months     11.99       265.68     B        B5   \n",
      "2         15600.0   36 months     10.49       506.97     B        B3   \n",
      "3          7200.0   36 months      6.49       220.65     A        A2   \n",
      "4         24375.0   60 months     17.27       609.33     C        C5   \n",
      "...           ...         ...       ...          ...   ...       ...   \n",
      "396024     6000.0   36 months     13.11       202.49     B        B4   \n",
      "396025    10000.0   60 months     10.99       217.38     B        B4   \n",
      "396026    21000.0   36 months     12.29       700.42     C        C1   \n",
      "396027     5000.0   36 months      9.99       161.32     B        B1   \n",
      "396028    21000.0   60 months     15.31       503.02     C        C2   \n",
      "\n",
      "                      emp_title emp_length home_ownership  annual_inc  ...  \\\n",
      "0                     Marketing  10+ years           RENT    117000.0  ...   \n",
      "1               Credit analyst     4 years       MORTGAGE     65000.0  ...   \n",
      "2                  Statistician   < 1 year           RENT     43057.0  ...   \n",
      "3               Client Advocate    6 years           RENT     54000.0  ...   \n",
      "4       Destiny Management Inc.    9 years       MORTGAGE     55000.0  ...   \n",
      "...                         ...        ...            ...         ...  ...   \n",
      "396024  Michael's Arts & Crafts    5 years           RENT     64000.0  ...   \n",
      "396025         licensed bankere    2 years           RENT     40000.0  ...   \n",
      "396026                    Agent    5 years       MORTGAGE    110000.0  ...   \n",
      "396027             City Carrier  10+ years           RENT     56500.0  ...   \n",
      "396028     Gracon Services, Inc  10+ years       MORTGAGE     64000.0  ...   \n",
      "\n",
      "       open_acc pub_rec revol_bal revol_util total_acc  initial_list_status  \\\n",
      "0          16.0     0.0   36369.0       41.8      25.0                    w   \n",
      "1          17.0     0.0   20131.0       53.3      27.0                    f   \n",
      "2          13.0     0.0   11987.0       92.2      26.0                    f   \n",
      "3           6.0     0.0    5472.0       21.5      13.0                    f   \n",
      "4          13.0     0.0   24584.0       69.8      43.0                    f   \n",
      "...         ...     ...       ...        ...       ...                  ...   \n",
      "396024      7.0     0.0   11456.0       97.1       9.0                    w   \n",
      "396025      6.0     0.0    1990.0       34.3      23.0                    w   \n",
      "396026      6.0     0.0   43263.0       95.7       8.0                    f   \n",
      "396027     15.0     0.0   32704.0       66.9      23.0                    f   \n",
      "396028      9.0     0.0   15704.0       53.8      20.0                    f   \n",
      "\n",
      "       application_type  mort_acc  pub_rec_bankruptcies  \\\n",
      "0            INDIVIDUAL       0.0                   0.0   \n",
      "1            INDIVIDUAL       3.0                   0.0   \n",
      "2            INDIVIDUAL       0.0                   0.0   \n",
      "3            INDIVIDUAL       0.0                   0.0   \n",
      "4            INDIVIDUAL       1.0                   0.0   \n",
      "...                 ...       ...                   ...   \n",
      "396024       INDIVIDUAL       0.0                   0.0   \n",
      "396025       INDIVIDUAL       0.0                   0.0   \n",
      "396026       INDIVIDUAL       1.0                   0.0   \n",
      "396027       INDIVIDUAL       0.0                   0.0   \n",
      "396028       INDIVIDUAL       5.0                   0.0   \n",
      "\n",
      "                                                  address  \n",
      "0            0174 Michelle Gateway\\nMendozaberg, OK 22690  \n",
      "1         1076 Carney Fort Apt. 347\\nLoganmouth, SD 05113  \n",
      "2         87025 Mark Dale Apt. 269\\nNew Sabrina, WV 05113  \n",
      "3                   823 Reid Ford\\nDelacruzside, MA 00813  \n",
      "4                    679 Luna Roads\\nGreggshire, VA 11650  \n",
      "...                                                   ...  \n",
      "396024  514 Cynthia Park Apt. 402\\nWest Williamside, S...  \n",
      "396025     12951 Williams Crossing\\nJohnnyville, DC 30723  \n",
      "396026  0114 Fowler Field Suite 028\\nRachelborough, LA...  \n",
      "396027   953 Matthew Points Suite 414\\nReedfort, NY 70466  \n",
      "396028  7843 Blake Freeway Apt. 229\\nNew Michael, FL 2...  \n",
      "\n",
      "[335867 rows x 27 columns]>\n"
     ]
    }
   ],
   "source": [
    "# Load the dataset\n",
    "df = pd.read_csv(\"lending_club_loan_two.csv\")\n",
    "\n",
    "# Display the column names to verify them\n",
    "print(df.columns)\n",
    "\n",
    "# Drop rows with missing values (if necessary)\n",
    "df = df.dropna()  \n",
    "\n",
    "# Or you could use df.fillna() to replace NaN values with a specific value\n",
    "\n",
    "#Size and head of the df\n",
    "print(df.head)\n",
    "print(df.info)"
   ]
  },
  {
   "cell_type": "code",
   "execution_count": 5,
   "metadata": {},
   "outputs": [
    {
     "name": "stdout",
     "output_type": "stream",
     "text": [
      "[' 36 months' ' 60 months']\n",
      "object\n"
     ]
    }
   ],
   "source": [
    "# Check unique values in the column\n",
    "print(df['term'].unique())  \n",
    "print(df['term'].dtype)  # Check data type"
   ]
  },
  {
   "cell_type": "markdown",
   "metadata": {},
   "source": [
    "Apply Standardization"
   ]
  },
  {
   "cell_type": "code",
   "execution_count": 7,
   "metadata": {},
   "outputs": [
    {
     "ename": "ValueError",
     "evalue": "could not convert string to float: '10+ years'",
     "output_type": "error",
     "traceback": [
      "\u001b[31m---------------------------------------------------------------------------\u001b[39m",
      "\u001b[31mValueError\u001b[39m                                Traceback (most recent call last)",
      "\u001b[32m~\\AppData\\Local\\Temp\\ipykernel_24156\\3794126316.py\u001b[39m in \u001b[36m?\u001b[39m\u001b[34m()\u001b[39m\n\u001b[32m      7\u001b[39m \u001b[38;5;66;03m# Initialize scaler\u001b[39;00m\n\u001b[32m      8\u001b[39m scaler = StandardScaler()\n\u001b[32m      9\u001b[39m \n\u001b[32m     10\u001b[39m \u001b[38;5;66;03m# Apply standardization (fit & transform)\u001b[39;00m\n\u001b[32m---> \u001b[39m\u001b[32m11\u001b[39m df[features_to_scale] = scaler.fit_transform(df[features_to_scale])\n\u001b[32m     12\u001b[39m \n\u001b[32m     13\u001b[39m \u001b[38;5;66;03m# Print transformed data\u001b[39;00m\n\u001b[32m     14\u001b[39m print(df.head())\n",
      "\u001b[32mc:\\Users\\tdawa\\OneDrive\\Desktop\\Python\\codes\\Financial Models\\Credit Risk model\\.venv\\Lib\\site-packages\\sklearn\\utils\\_set_output.py\u001b[39m in \u001b[36m?\u001b[39m\u001b[34m(self, X, *args, **kwargs)\u001b[39m\n\u001b[32m    314\u001b[39m     @wraps(f)\n\u001b[32m    315\u001b[39m     \u001b[38;5;28;01mdef\u001b[39;00m wrapped(self, X, *args, **kwargs):\n\u001b[32m--> \u001b[39m\u001b[32m316\u001b[39m         data_to_wrap = f(self, X, *args, **kwargs)\n\u001b[32m    317\u001b[39m         \u001b[38;5;28;01mif\u001b[39;00m isinstance(data_to_wrap, tuple):\n\u001b[32m    318\u001b[39m             \u001b[38;5;66;03m# only wrap the first output for cross decomposition\u001b[39;00m\n\u001b[32m    319\u001b[39m             return_tuple = (\n",
      "\u001b[32mc:\\Users\\tdawa\\OneDrive\\Desktop\\Python\\codes\\Financial Models\\Credit Risk model\\.venv\\Lib\\site-packages\\sklearn\\base.py\u001b[39m in \u001b[36m?\u001b[39m\u001b[34m(self, X, y, **fit_params)\u001b[39m\n\u001b[32m    890\u001b[39m                 )\n\u001b[32m    891\u001b[39m \n\u001b[32m    892\u001b[39m         \u001b[38;5;28;01mif\u001b[39;00m y \u001b[38;5;28;01mis\u001b[39;00m \u001b[38;5;28;01mNone\u001b[39;00m:\n\u001b[32m    893\u001b[39m             \u001b[38;5;66;03m# fit method of arity 1 (unsupervised transformation)\u001b[39;00m\n\u001b[32m--> \u001b[39m\u001b[32m894\u001b[39m             \u001b[38;5;28;01mreturn\u001b[39;00m self.fit(X, **fit_params).transform(X)\n\u001b[32m    895\u001b[39m         \u001b[38;5;28;01melse\u001b[39;00m:\n\u001b[32m    896\u001b[39m             \u001b[38;5;66;03m# fit method of arity 2 (supervised transformation)\u001b[39;00m\n\u001b[32m    897\u001b[39m             \u001b[38;5;28;01mreturn\u001b[39;00m self.fit(X, y, **fit_params).transform(X)\n",
      "\u001b[32mc:\\Users\\tdawa\\OneDrive\\Desktop\\Python\\codes\\Financial Models\\Credit Risk model\\.venv\\Lib\\site-packages\\sklearn\\preprocessing\\_data.py\u001b[39m in \u001b[36m?\u001b[39m\u001b[34m(self, X, y, sample_weight)\u001b[39m\n\u001b[32m    903\u001b[39m             Fitted scaler.\n\u001b[32m    904\u001b[39m         \"\"\"\n\u001b[32m    905\u001b[39m         \u001b[38;5;66;03m# Reset internal state before fitting\u001b[39;00m\n\u001b[32m    906\u001b[39m         self._reset()\n\u001b[32m--> \u001b[39m\u001b[32m907\u001b[39m         \u001b[38;5;28;01mreturn\u001b[39;00m self.partial_fit(X, y, sample_weight)\n",
      "\u001b[32mc:\\Users\\tdawa\\OneDrive\\Desktop\\Python\\codes\\Financial Models\\Credit Risk model\\.venv\\Lib\\site-packages\\sklearn\\base.py\u001b[39m in \u001b[36m?\u001b[39m\u001b[34m(estimator, *args, **kwargs)\u001b[39m\n\u001b[32m   1361\u001b[39m                 skip_parameter_validation=(\n\u001b[32m   1362\u001b[39m                     prefer_skip_nested_validation \u001b[38;5;28;01mor\u001b[39;00m global_skip_validation\n\u001b[32m   1363\u001b[39m                 )\n\u001b[32m   1364\u001b[39m             ):\n\u001b[32m-> \u001b[39m\u001b[32m1365\u001b[39m                 \u001b[38;5;28;01mreturn\u001b[39;00m fit_method(estimator, *args, **kwargs)\n",
      "\u001b[32mc:\\Users\\tdawa\\OneDrive\\Desktop\\Python\\codes\\Financial Models\\Credit Risk model\\.venv\\Lib\\site-packages\\sklearn\\preprocessing\\_data.py\u001b[39m in \u001b[36m?\u001b[39m\u001b[34m(self, X, y, sample_weight)\u001b[39m\n\u001b[32m    939\u001b[39m         self : object\n\u001b[32m    940\u001b[39m             Fitted scaler.\n\u001b[32m    941\u001b[39m         \"\"\"\n\u001b[32m    942\u001b[39m         first_call = \u001b[38;5;28;01mnot\u001b[39;00m hasattr(self, \u001b[33m\"n_samples_seen_\"\u001b[39m)\n\u001b[32m--> \u001b[39m\u001b[32m943\u001b[39m         X = validate_data(\n\u001b[32m    944\u001b[39m             self,\n\u001b[32m    945\u001b[39m             X,\n\u001b[32m    946\u001b[39m             accept_sparse=(\u001b[33m\"csr\"\u001b[39m, \u001b[33m\"csc\"\u001b[39m),\n",
      "\u001b[32mc:\\Users\\tdawa\\OneDrive\\Desktop\\Python\\codes\\Financial Models\\Credit Risk model\\.venv\\Lib\\site-packages\\sklearn\\utils\\validation.py\u001b[39m in \u001b[36m?\u001b[39m\u001b[34m(_estimator, X, y, reset, validate_separately, skip_check_array, **check_params)\u001b[39m\n\u001b[32m   2950\u001b[39m             out = y\n\u001b[32m   2951\u001b[39m         \u001b[38;5;28;01melse\u001b[39;00m:\n\u001b[32m   2952\u001b[39m             out = X, y\n\u001b[32m   2953\u001b[39m     \u001b[38;5;28;01melif\u001b[39;00m \u001b[38;5;28;01mnot\u001b[39;00m no_val_X \u001b[38;5;28;01mand\u001b[39;00m no_val_y:\n\u001b[32m-> \u001b[39m\u001b[32m2954\u001b[39m         out = check_array(X, input_name=\u001b[33m\"X\"\u001b[39m, **check_params)\n\u001b[32m   2955\u001b[39m     \u001b[38;5;28;01melif\u001b[39;00m no_val_X \u001b[38;5;28;01mand\u001b[39;00m \u001b[38;5;28;01mnot\u001b[39;00m no_val_y:\n\u001b[32m   2956\u001b[39m         out = _check_y(y, **check_params)\n\u001b[32m   2957\u001b[39m     \u001b[38;5;28;01melse\u001b[39;00m:\n",
      "\u001b[32mc:\\Users\\tdawa\\OneDrive\\Desktop\\Python\\codes\\Financial Models\\Credit Risk model\\.venv\\Lib\\site-packages\\sklearn\\utils\\validation.py\u001b[39m in \u001b[36m?\u001b[39m\u001b[34m(array, accept_sparse, accept_large_sparse, dtype, order, copy, force_writeable, force_all_finite, ensure_all_finite, ensure_non_negative, ensure_2d, allow_nd, ensure_min_samples, ensure_min_features, estimator, input_name)\u001b[39m\n\u001b[32m   1050\u001b[39m                         )\n\u001b[32m   1051\u001b[39m                     array = xp.astype(array, dtype, copy=\u001b[38;5;28;01mFalse\u001b[39;00m)\n\u001b[32m   1052\u001b[39m                 \u001b[38;5;28;01melse\u001b[39;00m:\n\u001b[32m   1053\u001b[39m                     array = _asarray_with_order(array, order=order, dtype=dtype, xp=xp)\n\u001b[32m-> \u001b[39m\u001b[32m1054\u001b[39m             \u001b[38;5;28;01mexcept\u001b[39;00m ComplexWarning \u001b[38;5;28;01mas\u001b[39;00m complex_warning:\n\u001b[32m   1055\u001b[39m                 raise ValueError(\n\u001b[32m   1056\u001b[39m                     \u001b[33m\"Complex data not supported\\n{}\\n\"\u001b[39m.format(array)\n\u001b[32m   1057\u001b[39m                 ) \u001b[38;5;28;01mfrom\u001b[39;00m complex_warning\n",
      "\u001b[32mc:\\Users\\tdawa\\OneDrive\\Desktop\\Python\\codes\\Financial Models\\Credit Risk model\\.venv\\Lib\\site-packages\\sklearn\\utils\\_array_api.py\u001b[39m in \u001b[36m?\u001b[39m\u001b[34m(array, dtype, order, copy, xp, device)\u001b[39m\n\u001b[32m    753\u001b[39m         \u001b[38;5;66;03m# Use NumPy API to support order\u001b[39;00m\n\u001b[32m    754\u001b[39m         \u001b[38;5;28;01mif\u001b[39;00m copy \u001b[38;5;28;01mis\u001b[39;00m \u001b[38;5;28;01mTrue\u001b[39;00m:\n\u001b[32m    755\u001b[39m             array = numpy.array(array, order=order, dtype=dtype)\n\u001b[32m    756\u001b[39m         \u001b[38;5;28;01melse\u001b[39;00m:\n\u001b[32m--> \u001b[39m\u001b[32m757\u001b[39m             array = numpy.asarray(array, order=order, dtype=dtype)\n\u001b[32m    758\u001b[39m \n\u001b[32m    759\u001b[39m         \u001b[38;5;66;03m# At this point array is a NumPy ndarray. We convert it to an array\u001b[39;00m\n\u001b[32m    760\u001b[39m         \u001b[38;5;66;03m# container that is consistent with the input's namespace.\u001b[39;00m\n",
      "\u001b[32mc:\\Users\\tdawa\\OneDrive\\Desktop\\Python\\codes\\Financial Models\\Credit Risk model\\.venv\\Lib\\site-packages\\pandas\\core\\generic.py\u001b[39m in \u001b[36m?\u001b[39m\u001b[34m(self, dtype, copy)\u001b[39m\n\u001b[32m   2167\u001b[39m             )\n\u001b[32m   2168\u001b[39m         values = self._values\n\u001b[32m   2169\u001b[39m         \u001b[38;5;28;01mif\u001b[39;00m copy \u001b[38;5;28;01mis\u001b[39;00m \u001b[38;5;28;01mNone\u001b[39;00m:\n\u001b[32m   2170\u001b[39m             \u001b[38;5;66;03m# Note: branch avoids `copy=None` for NumPy 1.x support\u001b[39;00m\n\u001b[32m-> \u001b[39m\u001b[32m2171\u001b[39m             arr = np.asarray(values, dtype=dtype)\n\u001b[32m   2172\u001b[39m         \u001b[38;5;28;01melse\u001b[39;00m:\n\u001b[32m   2173\u001b[39m             arr = np.array(values, dtype=dtype, copy=copy)\n\u001b[32m   2174\u001b[39m \n",
      "\u001b[31mValueError\u001b[39m: could not convert string to float: '10+ years'"
     ]
    }
   ],
   "source": [
    "from sklearn.preprocessing import StandardScaler\n",
    "\n",
    "# Define columns to scale\n",
    "features_to_scale = ['loan_amnt', 'int_rate', 'installment', 'emp_length', \n",
    "                     'annual_inc', 'dti', 'term']\n",
    "\n",
    "# Initialize scaler\n",
    "scaler = StandardScaler()\n",
    "\n",
    "# Apply standardization (fit & transform)\n",
    "df[features_to_scale] = scaler.fit_transform(df[features_to_scale])\n",
    "\n",
    "# Print transformed data\n",
    "print(df.head())"
   ]
  },
  {
   "cell_type": "markdown",
   "metadata": {},
   "source": [
    "Load & preprocess the Data:\n",
    "- We will use the lendingClub dataset for real world load data"
   ]
  },
  {
   "cell_type": "code",
   "execution_count": null,
   "metadata": {},
   "outputs": [],
   "source": [
    "# Select relevant columns\n",
    "columns_to_use = ['loan_amnt', 'term', 'int_rate', 'installment', 'emp_length', \n",
    "                  'annual_inc', 'dti', 'loan_status']\n",
    "df = df[columns_to_use]\n",
    "\n",
    "\n",
    "# Ensure term column is string before splitting\n",
    "df['term'] = df['term'].fillna(\"0 months\")  # Replace NaN with default\n",
    "\n",
    "# Convert the integers into string before proceeding\n",
    "# The .split()[0] function only works if x is a string, but some values in your dataset might already be integers (or missing/NaN)\n",
    "\n",
    "df['term'] = df['term'].astype(str).apply(lambda x: int(x.split()[0]) if 'month' in x else x)\n",
    "# Convert '36 months' -> 36\n",
    "\n",
    "# Encode categorical variables\n",
    "df['loan_status'] = df['loan_status'].fillna(\"Unknown\")  # Handle missing values\n",
    "df['loan_status'] = df['loan_status'].apply(lambda x: 1 if x == 'Fully Paid' else 0)  # Default = 0\n",
    "\n",
    "# Converting the strings into integer \n",
    "df['term'] = df['term'].astype(str).str.extract('(\\d+)').astype(float)  # Extract numeric values safely\n",
    "\n",
    "print(df.dtypes)\n",
    "\n",
    "# Handle missing values\n",
    "df.fillna(df.median(), inplace=True)"
   ]
  },
  {
   "cell_type": "markdown",
   "metadata": {},
   "source": [
    "Split the data into training and testing sets:"
   ]
  },
  {
   "cell_type": "code",
   "execution_count": null,
   "metadata": {},
   "outputs": [],
   "source": [
    "# Split into training and testing sets\n",
    "X = df.drop(columns=['loan_status'])\n",
    "y = df['loan_status']\n",
    "X_train, X_test, y_train, y_test = train_test_split(X, y, test_size=0.2, random_state=42)\n",
    "\n",
    "# Normalize numeric features\n",
    "scaler = StandardScaler()\n",
    "X_train = scaler.fit_transform(X_train)\n",
    "X_test = scaler.transform(X_test)"
   ]
  },
  {
   "cell_type": "markdown",
   "metadata": {},
   "source": [
    "Train Credit Risk Prediction Model:\n",
    "- We will use Random Forest Classifier to predict loan default risk"
   ]
  },
  {
   "cell_type": "code",
   "execution_count": null,
   "metadata": {},
   "outputs": [],
   "source": [
    "# Train Random Forest model\n",
    "model = RandomForestClassifier(n_estimators=100, random_state=42)\n",
    "model.fit(X_train, y_train)\n",
    "\n",
    "# Make predictions\n",
    "y_pred = model.predict(X_test)\n",
    "\n",
    "# Evaluate model\n",
    "accuracy = accuracy_score(y_test, y_pred)\n",
    "roc_auc = roc_auc_score(y_test, model.predict_proba(X_test)[:, 1])\n",
    "\n",
    "print(f\"Accuracy: {accuracy:.2f}\")\n",
    "print(f\"ROC AUC Score: {roc_auc:.2f}\")\n",
    "print(classification_report(y_test, y_pred))"
   ]
  },
  {
   "cell_type": "markdown",
   "metadata": {},
   "source": [
    "Load portfolio optimisation (Monte Carlo Simulation)\n",
    " - We will use Monte Carlo simulation to optimize the loan portfolio"
   ]
  },
  {
   "cell_type": "code",
   "execution_count": null,
   "metadata": {},
   "outputs": [],
   "source": [
    "# Simulate different loan portfolios\n",
    "num_simulations = 10000\n",
    "portfolio_returns = []\n",
    "\n",
    "for _ in range(num_simulations):\n",
    "    weights = np.random.dirichlet(np.ones(X_test.shape[1]), size=1)  # Random weights\n",
    "    simulated_return = np.dot(weights, X_test.mean(axis=0))  # Portfolio return\n",
    "    portfolio_returns.append(simulated_return[0])\n",
    "\n",
    "# Plot the simulated distribution of portfolio returns\n",
    "sns.histplot(portfolio_returns, bins=50, kde=True)\n",
    "plt.xlabel(\"Simulated Portfolio Return\")\n",
    "plt.ylabel(\"Frequency\")\n",
    "plt.title(\"Monte Carlo Simulation of Loan Portfolio\")\n",
    "plt.show()"
   ]
  },
  {
   "cell_type": "markdown",
   "metadata": {},
   "source": [
    "Saving the model after training:\n",
    "- We add this code to save the model & scaler\n",
    "- This ensures that the model trained can be used later without retaining it"
   ]
  },
  {
   "cell_type": "code",
   "execution_count": null,
   "metadata": {},
   "outputs": [],
   "source": [
    "# pickle aka .pkl \n",
    "# #Used to store Python objects (lists, dictionaries, models, etc.) in a file for later use\n",
    "import pickle \n",
    "\n",
    "# Save the trained model\n",
    "with open(\"credit_risk_model.pkl\", \"wb\") as f: #'wb' = Write binary\n",
    "    pickle.dump(model, f)\n",
    "\n",
    "# Save the feature scaler (important for consistent input transformation)\n",
    "with open(\"scaler.pkl\", \"wb\") as f:\n",
    "    pickle.dump(scaler, f)\n",
    "\n",
    "#avoid loading .pkl files from untrusted sources (they can execute malicious code)\n"
   ]
  }
 ],
 "metadata": {
  "kernelspec": {
   "display_name": ".venv",
   "language": "python",
   "name": "python3"
  },
  "language_info": {
   "codemirror_mode": {
    "name": "ipython",
    "version": 3
   },
   "file_extension": ".py",
   "mimetype": "text/x-python",
   "name": "python",
   "nbconvert_exporter": "python",
   "pygments_lexer": "ipython3",
   "version": "3.13.7"
  }
 },
 "nbformat": 4,
 "nbformat_minor": 2
}
