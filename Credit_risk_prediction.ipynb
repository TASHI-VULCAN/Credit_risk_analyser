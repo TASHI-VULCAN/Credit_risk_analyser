{
 "cells": [
  {
   "cell_type": "code",
   "execution_count": null,
   "metadata": {},
   "outputs": [],
   "source": [
    "#Load and preprocess the Data\n",
    "#Import the libraries\n",
    "import pandas as pd\n",
    "import numpy as np\n",
    "import seaborn as sns\n",
    "import matplotlib.pyplot as plt\n",
    "from sklearn.model_selection import train_test_split\n",
    "from sklearn.preprocessing import StandardScaler, LabelEncoder\n",
    "\n",
    "from sklearn.ensemble import RandomForestClassifier\n",
    "from sklearn.metrics import accuracy_score, classification_report, roc_auc_score\n",
    "\n",
    "#pip install fastapi uvicorn (for FastAPI and Uvicorn)\n",
    "#We are adding an API endpoint so the model can male real-time load risk predictions\n"
   ]
  },
  {
   "cell_type": "code",
   "execution_count": null,
   "metadata": {},
   "outputs": [],
   "source": [
    "# Load the dataset\n",
    "df = pd.read_csv(\"lending_club_loan_two.csv\")\n",
    "\n",
    "# Display the column names to verify them\n",
    "print(df.columns)\n",
    "\n",
    "# Drop rows with missing values (if necessary)\n",
    "df = df.dropna()  \n",
    "\n",
    "# Or you could use df.fillna() to replace NaN values with a specific value\n",
    "\n",
    "#Size and head of the df\n",
    "print(df.head)\n",
    "print(df.info)"
   ]
  },
  {
   "cell_type": "code",
   "execution_count": null,
   "metadata": {},
   "outputs": [],
   "source": [
    "# Check unique values in the column\n",
    "print(df['term'].unique())  \n",
    "print(df['term'].dtype)  # Check data type"
   ]
  },
  {
   "cell_type": "markdown",
   "metadata": {},
   "source": [
    "Apply Standardization"
   ]
  },
  {
   "cell_type": "code",
   "execution_count": null,
   "metadata": {},
   "outputs": [],
   "source": [
    "from sklearn.preprocessing import StandardScaler\n",
    "\n",
    "# Define columns to scale\n",
    "features_to_scale = ['loan_amnt', 'int_rate', 'installment', 'emp_length', \n",
    "                     'annual_inc', 'dti', 'term']\n",
    "\n",
    "# Initialize scaler\n",
    "scaler = StandardScaler()\n",
    "\n",
    "# Apply standardization (fit & transform)\n",
    "df[features_to_scale] = scaler.fit_transform(df[features_to_scale])\n",
    "\n",
    "# Print transformed data\n",
    "print(df.head())"
   ]
  },
  {
   "cell_type": "markdown",
   "metadata": {},
   "source": [
    "Load & preprocess the Data:\n",
    "- We will use the lendingClub dataset for real world load data"
   ]
  },
  {
   "cell_type": "code",
   "execution_count": null,
   "metadata": {},
   "outputs": [],
   "source": [
    "# Select relevant columns\n",
    "columns_to_use = ['loan_amnt', 'term', 'int_rate', 'installment', 'emp_length', \n",
    "                  'annual_inc', 'dti', 'loan_status']\n",
    "df = df[columns_to_use]\n",
    "\n",
    "\n",
    "# Ensure term column is string before splitting\n",
    "df['term'] = df['term'].fillna(\"0 months\")  # Replace NaN with default\n",
    "\n",
    "# Convert the integers into string before proceeding\n",
    "# The .split()[0] function only works if x is a string, but some values in your dataset might already be integers (or missing/NaN)\n",
    "\n",
    "df['term'] = df['term'].astype(str).apply(lambda x: int(x.split()[0]) if 'month' in x else x)\n",
    "# Convert '36 months' -> 36\n",
    "\n",
    "# Encode categorical variables\n",
    "df['loan_status'] = df['loan_status'].fillna(\"Unknown\")  # Handle missing values\n",
    "df['loan_status'] = df['loan_status'].apply(lambda x: 1 if x == 'Fully Paid' else 0)  # Default = 0\n",
    "\n",
    "# Converting the strings into integer \n",
    "df['term'] = df['term'].astype(str).str.extract('(\\d+)').astype(float)  # Extract numeric values safely\n",
    "\n",
    "print(df.dtypes)\n",
    "\n",
    "# Handle missing values\n",
    "df.fillna(df.median(), inplace=True)"
   ]
  },
  {
   "cell_type": "markdown",
   "metadata": {},
   "source": [
    "Split the data into training and testing sets:"
   ]
  },
  {
   "cell_type": "code",
   "execution_count": null,
   "metadata": {},
   "outputs": [],
   "source": [
    "# Split into training and testing sets\n",
    "X = df.drop(columns=['loan_status'])\n",
    "y = df['loan_status']\n",
    "X_train, X_test, y_train, y_test = train_test_split(X, y, test_size=0.2, random_state=42)\n",
    "\n",
    "# Normalize numeric features\n",
    "scaler = StandardScaler()\n",
    "X_train = scaler.fit_transform(X_train)\n",
    "X_test = scaler.transform(X_test)"
   ]
  },
  {
   "cell_type": "markdown",
   "metadata": {},
   "source": [
    "Train Credit Risk Prediction Model:\n",
    "- We will use Random Forest Classifier to predict loan default risk"
   ]
  },
  {
   "cell_type": "code",
   "execution_count": null,
   "metadata": {},
   "outputs": [],
   "source": [
    "# Train Random Forest model\n",
    "model = RandomForestClassifier(n_estimators=100, random_state=42)\n",
    "model.fit(X_train, y_train)\n",
    "\n",
    "# Make predictions\n",
    "y_pred = model.predict(X_test)\n",
    "\n",
    "# Evaluate model\n",
    "accuracy = accuracy_score(y_test, y_pred)\n",
    "roc_auc = roc_auc_score(y_test, model.predict_proba(X_test)[:, 1])\n",
    "\n",
    "print(f\"Accuracy: {accuracy:.2f}\")\n",
    "print(f\"ROC AUC Score: {roc_auc:.2f}\")\n",
    "print(classification_report(y_test, y_pred))"
   ]
  },
  {
   "cell_type": "markdown",
   "metadata": {},
   "source": [
    "Load portfolio optimisation (Monte Carlo Simulation)\n",
    " - We will use Monte Carlo simulation to optimize the loan portfolio"
   ]
  },
  {
   "cell_type": "code",
   "execution_count": null,
   "metadata": {},
   "outputs": [],
   "source": [
    "# Simulate different loan portfolios\n",
    "num_simulations = 10000\n",
    "portfolio_returns = []\n",
    "\n",
    "for _ in range(num_simulations):\n",
    "    weights = np.random.dirichlet(np.ones(X_test.shape[1]), size=1)  # Random weights\n",
    "    simulated_return = np.dot(weights, X_test.mean(axis=0))  # Portfolio return\n",
    "    portfolio_returns.append(simulated_return[0])\n",
    "\n",
    "# Plot the simulated distribution of portfolio returns\n",
    "sns.histplot(portfolio_returns, bins=50, kde=True)\n",
    "plt.xlabel(\"Simulated Portfolio Return\")\n",
    "plt.ylabel(\"Frequency\")\n",
    "plt.title(\"Monte Carlo Simulation of Loan Portfolio\")\n",
    "plt.show()"
   ]
  },
  {
   "cell_type": "markdown",
   "metadata": {},
   "source": [
    "Saving the model after training:\n",
    "- We add this code to save the model & scaler\n",
    "- This ensures that the model trained can be used later without retaining it"
   ]
  },
  {
   "cell_type": "code",
   "execution_count": null,
   "metadata": {},
   "outputs": [],
   "source": [
    "# pickle aka .pkl \n",
    "# #Used to store Python objects (lists, dictionaries, models, etc.) in a file for later use\n",
    "import pickle \n",
    "\n",
    "# Save the trained model\n",
    "with open(\"credit_risk_model.pkl\", \"wb\") as f: #'wb' = Write binary\n",
    "    pickle.dump(model, f)\n",
    "\n",
    "# Save the feature scaler (important for consistent input transformation)\n",
    "with open(\"scaler.pkl\", \"wb\") as f:\n",
    "    pickle.dump(scaler, f)\n",
    "\n",
    "#avoid loading .pkl files from untrusted sources (they can execute malicious code)\n"
   ]
  }
 ],
 "metadata": {
  "kernelspec": {
   "display_name": ".venv",
   "language": "python",
   "name": "python3"
  },
  "language_info": {
   "codemirror_mode": {
    "name": "ipython",
    "version": 3
   },
   "file_extension": ".py",
   "mimetype": "text/x-python",
   "name": "python",
   "nbconvert_exporter": "python",
   "pygments_lexer": "ipython3",
   "version": "3.13.7"
  }
 },
 "nbformat": 4,
 "nbformat_minor": 2
}
